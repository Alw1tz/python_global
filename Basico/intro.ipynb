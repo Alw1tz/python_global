{
 "cells": [
  {
   "attachments": {},
   "cell_type": "markdown",
   "metadata": {},
   "source": [
    "## Introducción a python"
   ]
  },
  {
   "cell_type": "code",
   "execution_count": 4,
   "metadata": {},
   "outputs": [],
   "source": [
    "#importar librerias\n",
    "import pandas as pd"
   ]
  },
  {
   "cell_type": "code",
   "execution_count": 6,
   "metadata": {},
   "outputs": [
    {
     "data": {
      "text/html": [
       "<div>\n",
       "<style scoped>\n",
       "    .dataframe tbody tr th:only-of-type {\n",
       "        vertical-align: middle;\n",
       "    }\n",
       "\n",
       "    .dataframe tbody tr th {\n",
       "        vertical-align: top;\n",
       "    }\n",
       "\n",
       "    .dataframe thead th {\n",
       "        text-align: right;\n",
       "    }\n",
       "</style>\n",
       "<table border=\"1\" class=\"dataframe\">\n",
       "  <thead>\n",
       "    <tr style=\"text-align: right;\">\n",
       "      <th></th>\n",
       "      <th>nombre</th>\n",
       "      <th>tipo</th>\n",
       "      <th>ejemplo</th>\n",
       "    </tr>\n",
       "  </thead>\n",
       "  <tbody>\n",
       "    <tr>\n",
       "      <th>0</th>\n",
       "      <td>Boolean</td>\n",
       "      <td>bool</td>\n",
       "      <td>True, False</td>\n",
       "    </tr>\n",
       "    <tr>\n",
       "      <th>1</th>\n",
       "      <td>Entero</td>\n",
       "      <td>int</td>\n",
       "      <td>21, 34500, 34_500</td>\n",
       "    </tr>\n",
       "    <tr>\n",
       "      <th>2</th>\n",
       "      <td>Flotante</td>\n",
       "      <td>float</td>\n",
       "      <td>3.14, 1.5e3</td>\n",
       "    </tr>\n",
       "    <tr>\n",
       "      <th>3</th>\n",
       "      <td>Complejo</td>\n",
       "      <td>complex</td>\n",
       "      <td>2j, 3 + 5j</td>\n",
       "    </tr>\n",
       "    <tr>\n",
       "      <th>4</th>\n",
       "      <td>Cadena de texto</td>\n",
       "      <td>str</td>\n",
       "      <td>'texto cualquiera'</td>\n",
       "    </tr>\n",
       "    <tr>\n",
       "      <th>5</th>\n",
       "      <td>Tupla</td>\n",
       "      <td>tuple</td>\n",
       "      <td>(1, 3, 5)</td>\n",
       "    </tr>\n",
       "    <tr>\n",
       "      <th>6</th>\n",
       "      <td>Lista</td>\n",
       "      <td>list</td>\n",
       "      <td>[ Chrome , Firefox ]</td>\n",
       "    </tr>\n",
       "    <tr>\n",
       "      <th>7</th>\n",
       "      <td>Conjunto</td>\n",
       "      <td>set</td>\n",
       "      <td>set([2, 4, 6])</td>\n",
       "    </tr>\n",
       "    <tr>\n",
       "      <th>8</th>\n",
       "      <td>Diccionario</td>\n",
       "      <td>dict</td>\n",
       "      <td>{Chrome : v79, Firefox : v71}</td>\n",
       "    </tr>\n",
       "  </tbody>\n",
       "</table>\n",
       "</div>"
      ],
      "text/plain": [
       "            nombre     tipo                        ejemplo\n",
       "0          Boolean     bool                    True, False\n",
       "1           Entero      int              21, 34500, 34_500\n",
       "2         Flotante    float                    3.14, 1.5e3\n",
       "3         Complejo  complex                     2j, 3 + 5j\n",
       "4  Cadena de texto      str             'texto cualquiera'\n",
       "5            Tupla    tuple                      (1, 3, 5)\n",
       "6            Lista     list           [ Chrome , Firefox ]\n",
       "7         Conjunto      set                 set([2, 4, 6])\n",
       "8      Diccionario     dict  {Chrome : v79, Firefox : v71}"
      ]
     },
     "execution_count": 6,
     "metadata": {},
     "output_type": "execute_result"
    }
   ],
   "source": [
    "data = {\n",
    "    \"nombre\": [\"Boolean\", \"Entero\", \"Flotante\", \"Complejo\", \"Cadena de texto\", \"Tupla\", \"Lista\", \"Conjunto\", \"Diccionario\"],\n",
    "    \"tipo\": [\"bool\", \"int\", \"float\", \"complex\", \"str\", \"tuple\", \"list\", \"set\", \"dict\"],\n",
    "    \"ejemplo\": [\"True, False\", \"21, 34500, 34_500\", \"3.14, 1.5e3\", \"2j, 3 + 5j\", \"'texto cualquiera'\", \"(1, 3, 5)\", \"[ Chrome , Firefox ]\", \"set([2, 4, 6])\", \"{Chrome : v79, Firefox : v71}\"]\n",
    "}\n",
    "\n",
    "df = pd.DataFrame(data)\n",
    "df"
   ]
  },
  {
   "cell_type": "code",
   "execution_count": 12,
   "metadata": {},
   "outputs": [
    {
     "name": "stdout",
     "output_type": "stream",
     "text": [
      "\n",
      "Here is a list of the Python keywords.  Enter any keyword to get more help.\n",
      "\n",
      "False               class               from                or\n",
      "None                continue            global              pass\n",
      "True                def                 if                  raise\n",
      "and                 del                 import              return\n",
      "as                  elif                in                  try\n",
      "assert              else                is                  while\n",
      "async               except              lambda              with\n",
      "await               finally             nonlocal            yield\n",
      "break               for                 not                 \n",
      "\n"
     ]
    }
   ],
   "source": [
    "# listado de palabras reservadas\n",
    "help('keywords')"
   ]
  },
  {
   "attachments": {},
   "cell_type": "markdown",
   "metadata": {},
   "source": [
    "## Mutables e inmutable"
   ]
  },
  {
   "cell_type": "code",
   "execution_count": 3,
   "metadata": {},
   "outputs": [
    {
     "name": "stdout",
     "output_type": "stream",
     "text": [
      "1\n",
      "[4, 2, 3]\n",
      "Juan\n",
      "{'nombre': 'Pedro', 'edad': 30}\n"
     ]
    }
   ],
   "source": [
    "# --> Mutables\n",
    "\n",
    "# Un objeto mutable es aquel que puede ser modificado después de su creación. \n",
    "# Por ejemplo, las listas son objetos mutables en Python, \n",
    "# lo que significa que se pueden agregar, eliminar o modificar elementos después \n",
    "# de que la lista haya sido creada.\n",
    "\n",
    "# Listas\n",
    "lista = [1, 2, 3]\n",
    "print(lista[0])  # Imprime 1\n",
    "lista[0] = 4\n",
    "print(lista)  # Imprime [4, 2, 3]\n",
    "\n",
    "# Diccionarios\n",
    "diccionario = {\"nombre\": \"Juan\", \"edad\": 30}\n",
    "print(diccionario[\"nombre\"])  # Imprime \"Juan\"\n",
    "diccionario[\"nombre\"] = \"Pedro\"\n",
    "print(diccionario)  # Imprime {\"nombre\": \"Pedro\", \"edad\": 30}"
   ]
  },
  {
   "cell_type": "code",
   "execution_count": 7,
   "metadata": {},
   "outputs": [
    {
     "name": "stdout",
     "output_type": "stream",
     "text": [
      "H\n"
     ]
    },
    {
     "ename": "TypeError",
     "evalue": "'str' object does not support item assignment",
     "output_type": "error",
     "traceback": [
      "\u001b[1;31m---------------------------------------------------------------------------\u001b[0m",
      "\u001b[1;31mTypeError\u001b[0m                                 Traceback (most recent call last)",
      "Cell \u001b[1;32mIn[7], line 11\u001b[0m\n\u001b[0;32m      9\u001b[0m mensaje \u001b[39m=\u001b[39m \u001b[39m\"\u001b[39m\u001b[39mHola mundo\u001b[39m\u001b[39m\"\u001b[39m\n\u001b[0;32m     10\u001b[0m \u001b[39mprint\u001b[39m(mensaje[\u001b[39m0\u001b[39m])  \u001b[39m# Imprime \"H\"\u001b[39;00m\n\u001b[1;32m---> 11\u001b[0m mensaje[\u001b[39m0\u001b[39m] \u001b[39m=\u001b[39m \u001b[39m\"\u001b[39m\u001b[39mh\u001b[39m\u001b[39m\"\u001b[39m  \u001b[39m# Genera un error TypeError\u001b[39;00m\n\u001b[0;32m     13\u001b[0m \u001b[39m# Números enteros\u001b[39;00m\n\u001b[0;32m     14\u001b[0m x \u001b[39m=\u001b[39m \u001b[39m5\u001b[39m\n",
      "\u001b[1;31mTypeError\u001b[0m: 'str' object does not support item assignment"
     ]
    }
   ],
   "source": [
    "# --> Inmutables \n",
    "\n",
    "# Un objeto inmutable, por otro lado, es aquel que no se puede modificar \n",
    "# después de su creación. Los objetos inmutables en Python incluyen números, \n",
    "# cadenas y tuplas. Una vez que se crea un objeto inmutable, no se pueden \n",
    "# realizar cambios en sus valores.\n",
    "\n",
    "# Cadena de caracteres\n",
    "mensaje = \"Hola mundo\"\n",
    "print(mensaje[0])  # Imprime \"H\"\n",
    "mensaje[0] = \"h\"  # Genera un error TypeError\n",
    "\n",
    "# Números enteros\n",
    "x = 5\n",
    "y = x\n",
    "y += 1\n",
    "print(x)  # Imprime 5\n",
    "print(y)  # Imprime 6\n",
    "\n",
    "# Tuplas\n",
    "tupla = (1, 2, 3)\n",
    "print(tupla[0])  # Imprime 1\n",
    "tupla[0] = 4    # Genera un error TypeError\n"
   ]
  },
  {
   "cell_type": "code",
   "execution_count": null,
   "metadata": {},
   "outputs": [],
   "source": [
    "# algunas funciones build-in importantes \n",
    "\n",
    "    print(): #Muestra el valor de un objeto o variable en la consola.\n",
    "    len(): #Devuelve el número de elementos de un objeto iterable, como una lista, tupla o string.\n",
    "    range(): #Crea un objeto de tipo rango que representa una secuencia de números enteros.\n",
    "    input(): #Espera la entrada del usuario desde la consola y devuelve el valor ingresado.\n",
    "    type(): #Devuelve el tipo de un objeto, como int, str, float, list, etc.\n",
    "    int(), float(), str(): #Convierten un valor a un tipo de datos numérico entero, decimal o string, respectivamente.\n",
    "    max(), min(): #Devuelve el valor máximo y mínimo en un iterable, como una lista o tupla.\n",
    "    sum(): #Devuelve la suma de los elementos en un iterable, como una lista o tupla.\n",
    "    sorted(): #Ordena los elementos en un iterable, como una lista o tupla, y devuelve una nueva lista ordenada.\n",
    "    open(): #Abre un archivo y devuelve un objeto archivo para leer o escribir.\n",
    "    enumerate(): #Devuelve un objeto enumerado que contiene tuplas de la forma (índice, elemento) de un objeto iterable.\n",
    "    zip(): #Combina dos o más objetos iterables en una secuencia de tuplas, donde cada tupla contiene los elementos correspondientes de cada iterable.\n",
    "    map(): #Aplica una función a cada elemento de un iterable y devuelve un objeto map que contiene los resultados.\n",
    "    filter(): #Filtra los elementos de un iterable que cumplen una condición especificada en una función y devuelve un objeto filter que contiene los elementos filtrados.\n",
    "    abs(): #Devuelve el valor absoluto de un número.\n",
    "    round(): #Redondea un número a un número entero o decimal especificado.\n",
    "    dir(): #Devuelve una lista de los nombres de atributos y métodos de un objeto.\n",
    "    str(), list(), tuple(), set(), dict(): #Convierten un objeto a un tipo de datos string, lista, tupla, conjunto o diccionario, respectivamente."
   ]
  },
  {
   "cell_type": "code",
   "execution_count": 16,
   "metadata": {},
   "outputs": [
    {
     "name": "stdout",
     "output_type": "stream",
     "text": [
      "Hola, mundo!\n"
     ]
    }
   ],
   "source": [
    "# llamado de funciones\n",
    "from example_call import * \n",
    "\n",
    "mi_funcion() # Imprime \"Hola, mundo!\" en la consola"
   ]
  },
  {
   "cell_type": "code",
   "execution_count": 18,
   "metadata": {},
   "outputs": [
    {
     "data": {
      "text/plain": [
       "500"
      ]
     },
     "execution_count": 18,
     "metadata": {},
     "output_type": "execute_result"
    }
   ],
   "source": [
    "# llamado de funciones desde una carpeta \n",
    "from call_it.call_me import calculadora as cal\n",
    "\n",
    "cal(100, 5, '*')"
   ]
  },
  {
   "cell_type": "code",
   "execution_count": 23,
   "metadata": {},
   "outputs": [
    {
     "data": {
      "text/plain": [
       "'0b110010100011'"
      ]
     },
     "execution_count": 23,
     "metadata": {},
     "output_type": "execute_result"
    }
   ],
   "source": [
    "# puedes interpretar directamente el binario\n",
    "0o6243 # 3235\n",
    "# y al reves\n",
    "bin(3235)"
   ]
  },
  {
   "cell_type": "code",
   "execution_count": 10,
   "metadata": {},
   "outputs": [
    {
     "name": "stdout",
     "output_type": "stream",
     "text": [
      "Continuando...\n",
      "Continuando...\n",
      "Continuando...\n",
      "¡Hasta luego!\n"
     ]
    }
   ],
   "source": [
    "# Tips chidos:\n",
    "# En Python, break es una palabra clave que se utiliza para salir de un bucle \n",
    "# (ya sea for o while) antes de que se complete su ejecución normal. Se puede \n",
    "# utilizar en cualquier lugar dentro del cuerpo del bucle.\n",
    "# Ejemplo:\n",
    "\n",
    "while True:\n",
    "    respuesta = input(\"¿Quieres salir? (s/n): \")\n",
    "    if respuesta == \"s\":\n",
    "        print(\"¡Hasta luego!\")\n",
    "        break\n",
    "    print(\"Continuando...\")"
   ]
  },
  {
   "cell_type": "code",
   "execution_count": 13,
   "metadata": {},
   "outputs": [
    {
     "name": "stdout",
     "output_type": "stream",
     "text": [
      "30.4 no es entero.\n"
     ]
    }
   ],
   "source": [
    "# isinstance: Se usa para verificar typos de datos \n",
    "# Ejemplo:\n",
    "\n",
    "x = 30.4\n",
    "if isinstance(x, int):\n",
    "    print(f'{x} si es entero.')\n",
    "else:\n",
    "    print(f'{x} no es entero.')"
   ]
  },
  {
   "cell_type": "code",
   "execution_count": null,
   "metadata": {},
   "outputs": [],
   "source": []
  }
 ],
 "metadata": {
  "kernelspec": {
   "display_name": "base",
   "language": "python",
   "name": "python3"
  },
  "language_info": {
   "codemirror_mode": {
    "name": "ipython",
    "version": 3
   },
   "file_extension": ".py",
   "mimetype": "text/x-python",
   "name": "python",
   "nbconvert_exporter": "python",
   "pygments_lexer": "ipython3",
   "version": "3.10.9"
  },
  "orig_nbformat": 4
 },
 "nbformat": 4,
 "nbformat_minor": 2
}
