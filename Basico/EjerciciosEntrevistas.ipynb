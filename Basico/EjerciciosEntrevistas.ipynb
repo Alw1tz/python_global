{
 "cells": [
  {
   "cell_type": "code",
   "execution_count": 3,
   "metadata": {},
   "outputs": [
    {
     "name": "stdout",
     "output_type": "stream",
     "text": [
      "¡Hola !\n"
     ]
    }
   ],
   "source": [
    "x = input('Dame tu nombre ')\n",
    "print(f'¡Hola {x}!')"
   ]
  },
  {
   "cell_type": "code",
   "execution_count": 6,
   "metadata": {},
   "outputs": [
    {
     "data": {
      "text/plain": [
       "0.25"
      ]
     },
     "execution_count": 6,
     "metadata": {},
     "output_type": "execute_result"
    }
   ],
   "source": [
    "ari = ((3+2) / (2*5)) ** 2\n",
    "ari"
   ]
  },
  {
   "cell_type": "code",
   "execution_count": 10,
   "metadata": {},
   "outputs": [
    {
     "data": {
      "text/plain": [
       "100.0"
      ]
     },
     "execution_count": 10,
     "metadata": {},
     "output_type": "execute_result"
    }
   ],
   "source": [
    "hora = int(input('horas trabajadas: '))\n",
    "coste = float(input('costo x hora: '))\n",
    "\n",
    "def info(hora, coste):\n",
    "    return(hora * coste)\n",
    "\n",
    "info(hora, coste)"
   ]
  },
  {
   "cell_type": "code",
   "execution_count": 13,
   "metadata": {},
   "outputs": [
    {
     "name": "stdout",
     "output_type": "stream",
     "text": [
      "0: Carlos\n",
      "1: Carlos\n",
      "2: Carlos\n",
      "3: Carlos\n",
      "4: Carlos\n",
      "5: Carlos\n",
      "6: Carlos\n",
      "7: Carlos\n",
      "8: Carlos\n",
      "9: Carlos\n",
      "10: Carlos\n",
      "11: Carlos\n",
      "12: Carlos\n",
      "13: Carlos\n",
      "14: Carlos\n",
      "15: Carlos\n",
      "16: Carlos\n",
      "17: Carlos\n",
      "18: Carlos\n",
      "19: Carlos\n",
      "20: Carlos\n",
      "21: Carlos\n"
     ]
    }
   ],
   "source": [
    "def dot(nombre, n):\n",
    "    for i in range(n):\n",
    "        print(f'{i}: {nombre}', end=\"\\n\")\n",
    "\n",
    "dot('Carlos', 22)"
   ]
  },
  {
   "cell_type": "code",
   "execution_count": 17,
   "metadata": {},
   "outputs": [
    {
     "name": "stdout",
     "output_type": "stream",
     "text": [
      "Carlos\n",
      "carlos\n",
      "CARLOS\n"
     ]
    }
   ],
   "source": [
    "def dot(nombre):\n",
    "    for i in range(3):\n",
    "        if(i==1):\n",
    "            nombre = nombre.lower()\n",
    "            print(f'{nombre}', end=\"\\n\")\n",
    "        elif(i==2):\n",
    "            nombre = nombre.upper()\n",
    "            print(f'{nombre}', end=\"\\n\")\n",
    "        else:\n",
    "            nombre = nombre.capitalize()\n",
    "            print(f'{nombre}', end=\"\\n\")\n",
    "\n",
    "dot('Carlos')"
   ]
  },
  {
   "cell_type": "code",
   "execution_count": 23,
   "metadata": {},
   "outputs": [
    {
     "data": {
      "text/plain": [
       "'Tu nombre: Carlos tiene 6 letras'"
      ]
     },
     "execution_count": 23,
     "metadata": {},
     "output_type": "execute_result"
    }
   ],
   "source": [
    "def lyrics(nombre):\n",
    "    return  'Tu nombre: {} tiene {} letras'.format(nombre, len(nombre))\n",
    "\n",
    "lyrics('Carlos')"
   ]
  },
  {
   "cell_type": "code",
   "execution_count": 1,
   "metadata": {},
   "outputs": [
    {
     "data": {
      "text/plain": [
       "5561215520"
      ]
     },
     "execution_count": 1,
     "metadata": {},
     "output_type": "execute_result"
    }
   ],
   "source": [
    "import re\n",
    "\n",
    "def eliminar_parentesis(numero):\n",
    "    # Expresión regular que busca cualquier cosa dentro de paréntesis\n",
    "    patron = r'\\(.*?\\)'\n",
    "    # Reemplaza el patrón encontrado por una cadena vacía\n",
    "    numero_sin_parentesis = re.sub(patron, '', numero)\n",
    "    # Elimina cualquier espacio en blanco restante\n",
    "    numero_sin_parentesis = numero_sin_parentesis.replace(\" \", \"\")\n",
    "    return int(numero_sin_parentesis)\n",
    "\n",
    "eliminar_parentesis('(+554)5561215520')"
   ]
  },
  {
   "cell_type": "code",
   "execution_count": 5,
   "metadata": {},
   "outputs": [
    {
     "name": "stdout",
     "output_type": "stream",
     "text": [
      "1\n",
      "2\n",
      "fizz\n",
      "4\n",
      "buzz\n",
      "fizz\n",
      "woof\n",
      "8\n",
      "fizz\n",
      "buzz\n",
      "11\n",
      "fizz\n",
      "13\n",
      "woof\n",
      "fizzbuzz\n",
      "16\n",
      "17\n",
      "fizz\n",
      "19\n",
      "buzz\n",
      "fizz\n",
      "22\n",
      "23\n",
      "fizz\n",
      "buzz\n",
      "26\n",
      "fizz\n",
      "woof\n",
      "29\n",
      "fizzbuzz\n",
      "31\n",
      "32\n",
      "fizz\n",
      "34\n",
      "buzz\n",
      "fizz\n",
      "37\n",
      "38\n",
      "fizz\n",
      "buzz\n",
      "41\n",
      "fizz\n",
      "43\n",
      "44\n",
      "fizzbuzz\n",
      "46\n",
      "47\n",
      "fizz\n",
      "woof\n",
      "buzz\n",
      "fizz\n",
      "52\n",
      "53\n",
      "fizz\n",
      "buzz\n",
      "woof\n",
      "fizz\n",
      "58\n",
      "59\n",
      "fizzbuzz\n",
      "61\n",
      "62\n",
      "fizz\n",
      "64\n",
      "buzz\n",
      "fizz\n",
      "67\n",
      "68\n",
      "fizz\n",
      "buzz\n",
      "71\n",
      "fizz\n",
      "73\n",
      "74\n",
      "fizzbuzz\n",
      "76\n",
      "woof\n",
      "fizz\n",
      "79\n",
      "buzz\n",
      "fizz\n",
      "82\n",
      "83\n",
      "fizz\n",
      "buzz\n",
      "86\n",
      "fizz\n",
      "88\n",
      "89\n",
      "fizzbuzz\n",
      "woof\n",
      "92\n",
      "fizz\n",
      "94\n",
      "buzz\n",
      "fizz\n",
      "97\n",
      "woof\n",
      "fizz\n",
      "None\n"
     ]
    }
   ],
   "source": [
    "# fizzbuzz: multiplos de 3 -> 'fizz' y multiplos de 5 -> 'Buzz'\n",
    "\n",
    "def fizzbuzz():\n",
    "    for i in range(1, 100):\n",
    "        if i % 3 == 0 and i % 5 == 0 and i % 7 == 0:\n",
    "            print(\"fizzbuzzwoof\")\n",
    "            continue\n",
    "        elif i % 3 == 0 and i % 5 == 0:\n",
    "            print(\"fizzbuzz\")\n",
    "            continue\n",
    "        elif i % 3 == 0:\n",
    "            print(\"fizz\")\n",
    "            continue\n",
    "        elif i % 5 == 0:\n",
    "            print(\"buzz\")\n",
    "            continue\n",
    "        elif i % 7 == 0:\n",
    "            print(\"woof\")\n",
    "            continue\n",
    "        \n",
    "        print(i)\n",
    "\n",
    "print(fizzbuzz())"
   ]
  },
  {
   "cell_type": "code",
   "execution_count": 11,
   "metadata": {},
   "outputs": [
    {
     "name": "stdout",
     "output_type": "stream",
     "text": [
      "1994\n"
     ]
    }
   ],
   "source": [
    "# romano a decimal\n",
    "\n",
    "def roman_to_decimal(s):\n",
    "    roman_numerals = {'I': 1, 'V': 5, 'X': 10, 'L': 50, 'C': 100, 'D': 500, 'M': 1000}\n",
    "    decimal_number = 0\n",
    "    \n",
    "    for i in range(len(s)):\n",
    "        if i > 0 and roman_numerals[s[i]] > roman_numerals[s[i-1]]:\n",
    "            decimal_number += roman_numerals[s[i]] - 2 * roman_numerals[s[i-1]]\n",
    "        else:\n",
    "            decimal_number += roman_numerals[s[i]]\n",
    "            \n",
    "    return decimal_number\n",
    "\n",
    "print(roman_to_decimal('MCMXCIV')) "
   ]
  },
  {
   "cell_type": "code",
   "execution_count": 13,
   "metadata": {},
   "outputs": [
    {
     "name": "stdout",
     "output_type": "stream",
     "text": [
      "MCMXCIV\n"
     ]
    }
   ],
   "source": [
    "def decimal_to_roman(num):\n",
    "    roman_numerals = {1000: 'M', 900: 'CM', 500: 'D', 400: 'CD', 100: 'C', 90: 'XC', 50: 'L', 40: 'XL', 10: 'X', 9: 'IX', 5: 'V', 4: 'IV', 1: 'I'}\n",
    "    roman_numeral = ''\n",
    "    \n",
    "    for value, symbol in roman_numerals.items():\n",
    "        while num >= value:\n",
    "            roman_numeral += symbol\n",
    "            num -= value\n",
    "            \n",
    "    return roman_numeral\n",
    "\n",
    "print(decimal_to_roman(1994))"
   ]
  },
  {
   "cell_type": "code",
   "execution_count": 17,
   "metadata": {},
   "outputs": [
    {
     "name": "stdout",
     "output_type": "stream",
     "text": [
      "nombre:Juan\n",
      "edad:30\n",
      "ciudad:Madrid\n"
     ]
    }
   ],
   "source": [
    "#\n",
    "def ejemplo(**kwargs):\n",
    "    for key, value in kwargs.items():\n",
    "        print(f'{key}:{value}', )\n",
    "\n",
    "ejemplo(nombre='Juan', edad=30, ciudad='Madrid')"
   ]
  }
 ],
 "metadata": {
  "kernelspec": {
   "display_name": "base",
   "language": "python",
   "name": "python3"
  },
  "language_info": {
   "codemirror_mode": {
    "name": "ipython",
    "version": 3
   },
   "file_extension": ".py",
   "mimetype": "text/x-python",
   "name": "python",
   "nbconvert_exporter": "python",
   "pygments_lexer": "ipython3",
   "version": "3.10.9"
  },
  "orig_nbformat": 4
 },
 "nbformat": 4,
 "nbformat_minor": 2
}
