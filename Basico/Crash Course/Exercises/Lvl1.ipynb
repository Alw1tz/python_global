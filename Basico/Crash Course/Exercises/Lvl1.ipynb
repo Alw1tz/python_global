{
 "cells": [
  {
   "cell_type": "markdown",
   "metadata": {},
   "source": [
    "****Libraries****"
   ]
  },
  {
   "cell_type": "code",
   "execution_count": 21,
   "metadata": {},
   "outputs": [],
   "source": [
    "from typing import Optional\n",
    "import numpy as np\n",
    "import scipy as sc \n",
    "import pandas as pd\n",
    "import matplotlib as matplotlib\n",
    "from itertools import combinations"
   ]
  },
  {
   "cell_type": "markdown",
   "metadata": {},
   "source": [
    "#***Functions***"
   ]
  },
  {
   "cell_type": "code",
   "execution_count": 44,
   "metadata": {},
   "outputs": [],
   "source": [
    "# 206. Reverse Linked List\n",
    "def reversedLinkedList(head:list) -> list:\n",
    "    # head_formated = list(head)\n",
    "    head.sort(reverse=True)\n",
    "    return head\n",
    "\n",
    "# 1. Two Sum \n",
    "def twoSum(nums:list, x:int) -> list:\n",
    "    if x <= 3:\n",
    "        return \"error\"\n",
    "    else:\n",
    "        res = []\n",
    "        max_len = len(nums)\n",
    "        for i in range(max_len):\n",
    "            for j in range(i + 1, max_len):\n",
    "                for k in range(j + 1, max_len):\n",
    "                    if nums[i] + nums[j] + nums[k] == x:\n",
    "                        res.append((nums[i],nums[j],nums[k]))\n",
    "                    \n",
    "        return res\n",
    "    \n",
    "def palindronumber(number:int) -> str:\n",
    "    str_number = str(number)\n",
    "    reversed_number = str_number[::-1]\n",
    "    if reversed_number == str_number:\n",
    "        return f'The number {number} is palindronumber'\n",
    "    else:\n",
    "        return f'The number {number} is not a palindronumber'\n",
    "    \n",
    "def romanToInt(s: str) -> int:\n",
    "        m = {\n",
    "            'I': 1,\n",
    "            'V': 5,\n",
    "            'X': 10,\n",
    "            'L': 50,\n",
    "            'C': 100,\n",
    "            'D': 500,\n",
    "            'M': 1000\n",
    "        }\n",
    "        \n",
    "        ans = 0\n",
    "        \n",
    "        for i in range(len(s)):\n",
    "            if i < len(s) - 1 and m[s[i]] < m[s[i+1]]:\n",
    "                ans -= m[s[i]]\n",
    "            else:\n",
    "                ans += m[s[i]]\n",
    "        \n",
    "        return ans\n",
    "    \n",
    "def longCommonPrefix(s: str) -> str:\n",
    "    if not s:\n",
    "        return ''\n",
    "    \n",
    "    "
   ]
  },
  {
   "cell_type": "markdown",
   "metadata": {},
   "source": [
    "#***Test***"
   ]
  },
  {
   "cell_type": "code",
   "execution_count": 52,
   "metadata": {},
   "outputs": [
    {
     "name": "stdout",
     "output_type": "stream",
     "text": [
      "The number 505 is palindronumber\n"
     ]
    }
   ],
   "source": [
    "# print(reversedLinkedList([1,2,3]))\n",
    "# print(twoSum([1,2,3,20,15,5,7,9,50,3], 12))\n",
    "# print(palindronumber(505))"
   ]
  },
  {
   "cell_type": "markdown",
   "metadata": {},
   "source": [
    "#***Dummy things***"
   ]
  },
  {
   "cell_type": "code",
   "execution_count": 9,
   "metadata": {},
   "outputs": [
    {
     "name": "stdout",
     "output_type": "stream",
     "text": [
      "14\n"
     ]
    }
   ],
   "source": [
    "m = {\n",
    "    'I': 1,\n",
    "    'V': 5,\n",
    "    'X': 10,\n",
    "    'L': 50,\n",
    "    'C': 100,\n",
    "    'D': 500,\n",
    "    'M': 1000\n",
    "}\n",
    "        \n",
    "ans = 0\n",
    "\n",
    "s = \"XIV\"\n",
    "\n",
    "for i in range(len(s)):\n",
    "    if i < len(s) - 1 and m[s[i]] < m[s[i+1]]:\n",
    "        ans -= m[s[i]]\n",
    "    else:\n",
    "        ans += m[s[i]]\n",
    "\n",
    "print(ans)\n",
    "\n"
   ]
  },
  {
   "cell_type": "code",
   "execution_count": 65,
   "metadata": {},
   "outputs": [
    {
     "name": "stdout",
     "output_type": "stream",
     "text": [
      "10\n",
      "1\n",
      "5\n"
     ]
    },
    {
     "data": {
      "text/plain": [
       "0"
      ]
     },
     "execution_count": 65,
     "metadata": {},
     "output_type": "execute_result"
    }
   ],
   "source": [
    "romanToInt(\"XIV\")"
   ]
  }
 ],
 "metadata": {
  "kernelspec": {
   "display_name": "base",
   "language": "python",
   "name": "python3"
  },
  "language_info": {
   "codemirror_mode": {
    "name": "ipython",
    "version": 3
   },
   "file_extension": ".py",
   "mimetype": "text/x-python",
   "name": "python",
   "nbconvert_exporter": "python",
   "pygments_lexer": "ipython3",
   "version": "3.10.9"
  }
 },
 "nbformat": 4,
 "nbformat_minor": 2
}
