{
 "cells": [
  {
   "attachments": {},
   "cell_type": "markdown",
   "metadata": {},
   "source": [
    "# Ejercicios"
   ]
  },
  {
   "cell_type": "code",
   "execution_count": 1,
   "metadata": {},
   "outputs": [
    {
     "name": "stdout",
     "output_type": "stream",
     "text": [
      "Total pagado: 966279.60\n"
     ]
    }
   ],
   "source": [
    "# --> 1\n",
    "\n",
    "#Dave ha decidido sacar una hipoteca de tasa fija a 30 años de $500,000 con el \n",
    "# comercio de hipotecas, inversiones en acciones y Bitcoin de Guido corporación. \n",
    "# La tasa de interés es del 5% y el pago mensual es $2684,11.\n",
    "\n",
    "capital = 500_000\n",
    "tasa = 0.05\n",
    "pago = 2_684.11\n",
    "total_pagado = 0.0\n",
    "\n",
    "while capital > 0:\n",
    "    capital = capital * (1 + tasa / 12) - pago\n",
    "    total_pagado = total_pagado + pago\n",
    "\n",
    "print(f'Total pagado: {total_pagado:.2f}')"
   ]
  },
  {
   "cell_type": "code",
   "execution_count": 2,
   "metadata": {},
   "outputs": [
    {
     "name": "stdout",
     "output_type": "stream",
     "text": [
      "10.0\n"
     ]
    }
   ],
   "source": [
    "# --> 2: con control de errores.\n",
    "import sys\n",
    "# Calculadora básica: Escribe un programa que permita al usuario realizar operaciones \n",
    "# matemáticas básicas (suma, resta, multiplicación, división) sobre dos números \n",
    "# ingresados por teclado.\n",
    "\n",
    "while True:\n",
    "    try:\n",
    "        chose = int(input('Elige una de las opciones: \\n\\\n",
    "          1. \\t Suma. \\n\\\n",
    "          2. \\t Resta. \\n\\\n",
    "          3. \\t Multiplicación. \\n\\\n",
    "          4. \\t División. \\n'))\n",
    "        \n",
    "        break\n",
    "    except ValueError:\n",
    "        print(\"Error: debes ingresar un número entero. Inténtalo de nuevo.\")\n",
    "\n",
    "x = float(input('Puedes darme el primer numero'))\n",
    "y = float(input('Puedes darme el primer numero'))\n",
    "\n",
    "if chose == 1:\n",
    "    res = x + y\n",
    "    print(res)\n",
    "    pass\n",
    "elif chose == 2:\n",
    "    res = x - y\n",
    "    print(res)\n",
    "    pass\n",
    "elif chose == 3:\n",
    "    res = x * y\n",
    "    print(res)\n",
    "    pass\n",
    "elif chose == 4:\n",
    "    try:\n",
    "        res = x / y\n",
    "        print(res)\n",
    "        pass\n",
    "    except:\n",
    "        print(f'Se ha producido un error: \\n \\\n",
    "              - Tipo de excepcion:{sys.exc_info()[0]}\\n \\\n",
    "              - Description del error: {sys.exc_info()[1]}')\n",
    "        pass\n",
    "\n"
   ]
  },
  {
   "cell_type": "code",
   "execution_count": 3,
   "metadata": {},
   "outputs": [
    {
     "name": "stdout",
     "output_type": "stream",
     "text": [
      "1.8288\n",
      "1.8288\n"
     ]
    }
   ],
   "source": [
    "# --> 3\n",
    "\n",
    "# Conversion de unidades: metros a pies\n",
    "\n",
    "def unidades(a:float) -> float:\n",
    "    pies = .3048\n",
    "    return f'{(pies * a):.4f}'\n",
    "\n",
    "# aqui retorna un tipo de dato str, si lo queremos en float hay que hacer la conversión\n",
    "print(unidades(6)) # str\n",
    "\n",
    "def units(a:float) -> float:\n",
    "    foot = .3048\n",
    "    return round((foot * a), 4)\n",
    "\n",
    "print(units(6)) # float\n"
   ]
  },
  {
   "cell_type": "code",
   "execution_count": 4,
   "metadata": {},
   "outputs": [
    {
     "data": {
      "text/plain": [
       "120"
      ]
     },
     "execution_count": 4,
     "metadata": {},
     "output_type": "execute_result"
    }
   ],
   "source": [
    "# --> 4 \n",
    "\n",
    "# Factorial de un numero:\n",
    "\n",
    "def factorial(x:int) -> int:\n",
    "    if x is None:\n",
    "        raise ValueError(\"No puede ser negativo\")\n",
    "    elif x == 0:\n",
    "        return int(True) \n",
    "    else:\n",
    "        res = 1 \n",
    "        for i in range(1, x+1):\n",
    "            res *= i\n",
    "        return res\n",
    "    \n",
    "factorial(5)"
   ]
  },
  {
   "cell_type": "code",
   "execution_count": 5,
   "metadata": {},
   "outputs": [
    {
     "name": "stdout",
     "output_type": "stream",
     "text": [
      "0 no es un número primo.\n",
      "Números primos: [7, 2]\n"
     ]
    }
   ],
   "source": [
    "# --> 5 \n",
    "\n",
    "import sys\n",
    "# Numeros primos de una serie de numeros\n",
    "\n",
    "def validar_numeros_primos(*args):\n",
    "    numeros_primos = []\n",
    "    for num in args:\n",
    "        try:\n",
    "            num = int(num)\n",
    "            if num > 1:\n",
    "                for i in range(2, num):\n",
    "                    if num % i == 0:\n",
    "                        break\n",
    "                else:\n",
    "                    numeros_primos.append(num)\n",
    "            else:\n",
    "                print(f\"{num} no es un número primo.\")\n",
    "        except ValueError:\n",
    "            print(f\"{num} no es un número entero.\")\n",
    "    print(f\"Números primos: {numeros_primos}\")\n",
    "\n",
    "validar_numeros_primos(7, 9, 2, 1000, 428, 777,0)"
   ]
  },
  {
   "cell_type": "code",
   "execution_count": 6,
   "metadata": {},
   "outputs": [
    {
     "data": {
      "text/plain": [
       "'Tu numero -5 tiene que ser un numero mayor a 0'"
      ]
     },
     "execution_count": 6,
     "metadata": {},
     "output_type": "execute_result"
    }
   ],
   "source": [
    "# --> 6\n",
    "\n",
    "def numeros(x: int) -> int:\n",
    "    res = 0\n",
    "    if x <= 0:\n",
    "        return f'Tu numero {x} tiene que ser un numero mayor a 0'\n",
    "    elif x > 0:\n",
    "        for i in range(1, x + 1):\n",
    "            res += i \n",
    "        return res\n",
    "    \n",
    "numeros(-5)"
   ]
  },
  {
   "cell_type": "code",
   "execution_count": 25,
   "metadata": {},
   "outputs": [
    {
     "data": {
      "text/plain": [
       "'\"ra d ar\" si es palindromo'"
      ]
     },
     "execution_count": 25,
     "metadata": {},
     "output_type": "execute_result"
    }
   ],
   "source": [
    "# --> 7: Palindrome\n",
    "\n",
    "def Palindrome(x:str) -> bool:\n",
    "    _palindrome = x[::-1]\n",
    "\n",
    "    if _palindrome == x: \n",
    "        return f'\"{x}\" si es palindromo'\n",
    "    else:\n",
    "        return f'\"{x}\" no es palindromo'\n",
    "\n",
    "Palindrome('ra d ar')"
   ]
  },
  {
   "cell_type": "code",
   "execution_count": 26,
   "metadata": {},
   "outputs": [
    {
     "data": {
      "text/plain": [
       "10000.02"
      ]
     },
     "execution_count": 26,
     "metadata": {},
     "output_type": "execute_result"
    }
   ],
   "source": [
    "# --> 8: Discount factor \n",
    "\n",
    "def apply_discount_factor(_price, _discount_factor:float) -> float:\n",
    "    desc = float(_price * (_discount_factor/100))\n",
    "    tot = float(_price - desc) \n",
    "    return round(tot, 4) if tot >= 0 else 0\n",
    "\n",
    "apply_discount_factor(100_000_200, 99.99)\n"
   ]
  },
  {
   "cell_type": "code",
   "execution_count": 56,
   "metadata": {},
   "outputs": [
    {
     "name": "stdout",
     "output_type": "stream",
     "text": [
      "Hola : 4\n",
      "Adios : 5\n",
      "UN EJEMPLO SUPER EXPLICITO, A VER QUE HACE LA COSA ESTA : 45\n",
      "# ! $ % & : 5\n"
     ]
    }
   ],
   "source": [
    "# --> 9: Words count\n",
    "\n",
    "def words_counter(*words):\n",
    "    palabra = words\n",
    "    res = lambda tupla: {palabra: len(palabra.replace(\" \", \"\")) for palabra in tupla}\n",
    "    for x, y in res(palabra).items():\n",
    "        print(f'{x} : {y}')\n",
    "\n",
    "words_counter(\"Hola\", \"Adios\", \"UN EJEMPLO SUPER EXPLICITO, A VER QUE HACE LA COSA ESTA\", \"# ! $ % &\")"
   ]
  },
  {
   "cell_type": "code",
   "execution_count": 59,
   "metadata": {},
   "outputs": [
    {
     "name": "stdout",
     "output_type": "stream",
     "text": [
      "El número secret es mayor que 10\n",
      "El número secret es mayor que 90\n",
      "El número secret es mayor que 95\n",
      "El número secret es mayor que 96\n",
      "¡Felicidades! Adivinaste el número secret.\n"
     ]
    }
   ],
   "source": [
    "# --> 10: Guess the correct number \n",
    "\n",
    "import random\n",
    "\n",
    "secret = random.randint(1, 100) # \n",
    "\n",
    "guess = True\n",
    "\n",
    "while guess != False:\n",
    "    _try = int(input(\"Adivina el número secret (entre 1 y 100): \"))\n",
    "    if _try == secret:\n",
    "        print(\"¡Felicidades! Adivinaste el número secret.\")\n",
    "        guess = False\n",
    "    elif _try < secret:\n",
    "        print(\"El número secret es mayor que\", _try)\n",
    "    else:\n",
    "        print(\"El número secret es menor que\", _try)"
   ]
  }
 ],
 "metadata": {
  "kernelspec": {
   "display_name": "base",
   "language": "python",
   "name": "python3"
  },
  "language_info": {
   "codemirror_mode": {
    "name": "ipython",
    "version": 3
   },
   "file_extension": ".py",
   "mimetype": "text/x-python",
   "name": "python",
   "nbconvert_exporter": "python",
   "pygments_lexer": "ipython3",
   "version": "3.10.9"
  },
  "orig_nbformat": 4
 },
 "nbformat": 4,
 "nbformat_minor": 2
}
